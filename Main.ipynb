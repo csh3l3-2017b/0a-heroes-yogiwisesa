{
 "cells": [
  {
   "cell_type": "code",
   "execution_count": 15,
   "metadata": {
    "collapsed": true
   },
   "outputs": [],
   "source": [
    "# YOGI WISESA CHANDRA  1301154282 IF 39-02\n",
    "\n",
    "#import dependency yg diperlukan\n",
    "import pandas as pd\n",
    "import numpy as np\n",
    "import matplotlib.pyplot as plt\n",
    "\n",
    "#deklarasi list name & role yang nantinya digunakan untuk menyimpan nama dan role yg diperlukan\n",
    "name = []\n",
    "role = []\n",
    "\n",
    "#membaca file test dalam bentuk csv dgn nama test.csv\n",
    "data = pd.read_csv('test.csv')\n",
    "\n",
    "#perulangan untuk membaca data yang diinput\n",
    "for i in range(len(data)):\n",
    "    name.append(data[\"name\"][i]) #menambahkan nama hero ke=i ke list\n",
    "    if (data[\"movementSpeed\"][i] >= 270): #cek  movementSpeed jika >= 270 maka list role ditambahkan marksman\n",
    "        role.append(\"MARKSMAN\")\n",
    "    elif (data[\"mana\"][i] >= 500): #cek mana jika >= 500 maka list role ditambahkan mage\n",
    "        role.append(\"MAGE\")\n",
    "    elif (data[\"armor\"][i] >= 25): #cek jika armor >= 25 maka list role ditambahkan tank\n",
    "        role.append(\"TANK\")\n",
    "    elif (data[\"physicalAttack\"][i] >= 121): #cek jikaphysicalAttack >= 270 maka list role ditambahkan assassin\n",
    "        role.append(\"ASSASSIN\")\n",
    "    elif (data[\"hp\"][i] >= 2580): #cek jika hp >= 2580 maka list role ditambahkan fighter\n",
    "        role.append(\"FIGHTER\")\n",
    "    else: #selain diatas maka menjadi support\n",
    "        role.append(\"SUPPORT\")\n",
    "    \n",
    " #membuat raw data baru dengan isi kolom name dan rownya diambil dari list name    \n",
    "# dan kolom role dengan isi list role\n",
    "raw_data = { 'name' : name, 'role':role}\n",
    "\n",
    "#df diassign dataframe dengan isian raw_data dengan kolom name dan role\n",
    "df = pd.DataFrame(raw_data, columns = ['name', 'role'])\n",
    "#mengexport hasil klasifikasi ke dalam csv baru dan index di non-aktifkan.\n",
    "df.to_csv('prediction.csv', index= False)"
   ]
  },
  {
   "cell_type": "code",
   "execution_count": null,
   "metadata": {
    "collapsed": true
   },
   "outputs": [],
   "source": []
  }
 ],
 "metadata": {
  "kernelspec": {
   "display_name": "Python 3",
   "language": "python",
   "name": "python3"
  },
  "language_info": {
   "codemirror_mode": {
    "name": "ipython",
    "version": 3
   },
   "file_extension": ".py",
   "mimetype": "text/x-python",
   "name": "python",
   "nbconvert_exporter": "python",
   "pygments_lexer": "ipython3",
   "version": "3.6.3"
  }
 },
 "nbformat": 4,
 "nbformat_minor": 2
}
