{
 "cells": [
  {
   "cell_type": "code",
   "execution_count": 15,
   "metadata": {},
   "outputs": [],
   "source": [
    "# YOGI WISESA CHANDRA  1301154282 IF 39-02\n",
    "import pandas as pd\n",
    "import numpy as np\n",
    "import matplotlib.pyplot as plt\n",
    "name = []\n",
    "role = []\n",
    "data = pd.read_csv('test.csv')\n",
    "for i in range(len(data)):\n",
    "    name.append(data[\"name\"][i])\n",
    "    if (data[\"movementSpeed\"][i] >= 270):\n",
    "        role.append(\"MARKSMAN\")\n",
    "    elif (data[\"mana\"][i] >= 500):\n",
    "        role.append(\"MAGE\")\n",
    "    elif (data[\"armor\"][i] >= 25):\n",
    "        role.append(\"TANK\")\n",
    "    elif (data[\"physicalAttack\"][i] >= 121):\n",
    "        role.append(\"ASSASSIN\")\n",
    "    elif (data[\"hp\"][i] >= 2580):\n",
    "        role.append(\"FIGHTER\")\n",
    "    else:\n",
    "        role.append(\"SUPPORT\")\n",
    "        \n",
    "raw_data = { 'name' : name, 'role':role}\n",
    "df = pd.DataFrame(raw_data, columns = ['name', 'role'])\n",
    "df.to_csv('answers.csv', index=False)"
   ]
  },
  {
   "cell_type": "code",
   "execution_count": null,
   "metadata": {
    "collapsed": true
   },
   "outputs": [],
   "source": []
  }
 ],
 "metadata": {
  "kernelspec": {
   "display_name": "Python 3",
   "language": "python",
   "name": "python3"
  },
  "language_info": {
   "codemirror_mode": {
    "name": "ipython",
    "version": 3
   },
   "file_extension": ".py",
   "mimetype": "text/x-python",
   "name": "python",
   "nbconvert_exporter": "python",
   "pygments_lexer": "ipython3",
   "version": "3.6.3"
  }
 },
 "nbformat": 4,
 "nbformat_minor": 2
}
