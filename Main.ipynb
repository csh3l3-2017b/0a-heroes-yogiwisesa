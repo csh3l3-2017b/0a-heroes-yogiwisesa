{
 "cells": [
  {
   "cell_type": "markdown",
   "metadata": {},
   "source": [
    "# Tugas Machine Learning Minggu 1\n",
    "Yogi Wisesa Chandra 1301154282 IF 39-02\n",
    "\n",
    "Baris kode program dibawah digunakan untuk mengkalsifikasikan hero- hero yang ada berdasarkan biodata yang terdapat pada file CSV sesuai dengan ketentuan yang ada. Hasil klasifikasi kemudian di<i>outputkan</i> dalam file CSV dengan kolom nama dan <i>role</i> dari hero tersebut.\n",
    "\n",
    "Ketentuan untuk klasifikasinya adalah sebagai berikut:\n",
    "    <ul>\n",
    "    <ol>MovementSpeed >= 27: Marksman </ol>\n",
    "    <ol>Mana >= 500: Mage</ol>\n",
    "    <ol>Armor >= 25: Tank </ol>\n",
    "    <ol>PhysicalAttack >=121: Assassin</ol>\n",
    "    <ol>HP >=2580: Fighter</ol>\n",
    "    <ol>Lainnya: support</ol> \n",
    "    </ul>\n",
    "  \n",
    "<i>Input</i> dari program ini adalah file 'file.csv' <br>\n",
    "<i>Output</i> dari program ini disimpan pada file 'prediction.csv'\n",
    "\n",
    "\n",
    "\n",
    "<i>Pada baris kode dibawah juga telah ditambahkan dokumentasi dalam bentuk komentar agar memudahkan pembaca membaca dan memahami setiap baris kode. </i>"
   ]
  },
  {
   "cell_type": "code",
   "execution_count": 3,
   "metadata": {
    "collapsed": true
   },
   "outputs": [],
   "source": [
    "# YOGI WISESA CHANDRA  1301154282 IF 39-02\n",
    "\n",
    "#import dependency yg diperlukan\n",
    "import pandas as pd\n",
    "import numpy as np\n",
    "import matplotlib.pyplot as plt\n",
    "\n",
    "#deklarasi list name & role yang nantinya digunakan untuk menyimpan nama dan role yg diperlukan\n",
    "name = []\n",
    "role = []\n",
    "\n",
    "#membaca file test dalam bentuk csv dgn nama test.csv\n",
    "data = pd.read_csv('test.csv')\n",
    "\n",
    "#perulangan untuk membaca data yang diinput\n",
    "for i in range(len(data)):\n",
    "    name.append(data[\"name\"][i]) \n",
    "    if (data[\"movementSpeed\"][i] >= 270): \n",
    "        role.append(\"MARKSMAN\")\n",
    "    elif (data[\"mana\"][i] >= 500): \n",
    "        role.append(\"MAGE\")\n",
    "    elif (data[\"armor\"][i] >= 25):\n",
    "        role.append(\"TANK\")\n",
    "    elif (data[\"physicalAttack\"][i] >= 121):\n",
    "        role.append(\"ASSASSIN\")\n",
    "    elif (data[\"hp\"][i] >= 2580): \n",
    "        role.append(\"FIGHTER\")\n",
    "    else: \n",
    "        role.append(\"SUPPORT\")\n",
    "    \n",
    " #membuat raw data baru dengan isi kolom name dan rownya diambil dari list name    \n",
    "# dan kolom role dengan isi list role\n",
    "raw_data = { 'name' : name, 'role':role}\n",
    "\n",
    "#df diassign dataframe dengan isian raw_data dengan kolom name dan role\n",
    "df = pd.DataFrame(raw_data, columns = ['name', 'role'])\n",
    "#mengexport hasil klasifikasi ke dalam csv baru dan index di non-aktifkan.\n",
    "df.to_csv('prediction.csv', index= False)"
   ]
  }
 ],
 "metadata": {
  "kernelspec": {
   "display_name": "Python 3",
   "language": "python",
   "name": "python3"
  },
  "language_info": {
   "codemirror_mode": {
    "name": "ipython",
    "version": 3
   },
   "file_extension": ".py",
   "mimetype": "text/x-python",
   "name": "python",
   "nbconvert_exporter": "python",
   "pygments_lexer": "ipython3",
   "version": "3.6.3"
  }
 },
 "nbformat": 4,
 "nbformat_minor": 2
}
